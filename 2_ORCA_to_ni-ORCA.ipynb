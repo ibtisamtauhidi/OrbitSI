{
 "cells": [
  {
   "cell_type": "code",
   "execution_count": 2,
   "metadata": {
    "colab": {
     "base_uri": "https://localhost:8080/"
    },
    "id": "JDVrVEeNKOjd",
    "outputId": "7ca64584-7b07-4228-bc3a-30c8a19d1e9c"
   },
   "outputs": [
    {
     "name": "stdout",
     "output_type": "stream",
     "text": [
      "HPRD\t Assertion Fin\n",
      "HUMAN\t Assertion Fin\n",
      "WORDNET\t Assertion Fin\n",
      "YEAST\t Assertion Fin\n",
      "DBLP\t Assertion Fin\n"
     ]
    }
   ],
   "source": [
    "import pandas as pd\n",
    "import numpy as np\n",
    "\n",
    "DATASETS = [\"hprd\", \"human\", \"wordnet\", \"yeast\", \"dblp\"]\n",
    "\n",
    "for DATASET in DATASETS:\n",
    "  ni_enum = pd.read_csv(\"ni-orca/ni-enumeration/\" + DATASET + \".orbit\",header=None)\n",
    "  ni_enum.columns = ['o_'+str(i) for i in range(15)]\n",
    "\n",
    "  orca = pd.read_csv(\"ni-orca/orca/\" + DATASET + \".orbit\",header=None)\n",
    "  orca.columns = ['o_'+str(i) for i in range(15)] + ['f_14', 'f_12_14', 'f_10_13', 'f_13_14', 'f_11_13','f_7_11', 'f_5_8','f_6_9','f_9_12','f_4_8','f_8_12']\n",
    "\n",
    "  df = pd.merge(ni_enum, orca, left_index=True, right_index=True, suffixes=('_ni', '_orca'))\n",
    "  for idx, row in df.iterrows():\n",
    "    assert row['o_0_ni'] == row['o_0_orca']\n",
    "    assert row['o_1_ni'] == row['o_1_orca'] + 2 * row['o_3_orca']\n",
    "    assert row['o_2_ni'] == (row['o_0_orca']*(row['o_0_orca']-1))/2\n",
    "    assert row['o_3_ni'] == row['o_3_orca']\n",
    "    assert row['o_4_ni'] == row['o_4_orca'] + row['o_10_orca'] + row['f_13_14'] + row['f_8_12'] + row['f_9_12']\n",
    "    assert row['o_5_ni'] == row['o_5_orca'] + row['o_10_orca'] + row['f_13_14'] + row['f_8_12'] + row['f_11_13']\n",
    "    assert row['o_6_ni'] == (row['o_10_orca'] + row['f_10_13'] + row['f_6_9'])/2 + row['o_12_orca'] + row['f_12_14']\n",
    "    assert row['o_7_ni'] == (row['o_0_orca'] * (row['o_0_orca']-1) * (row['o_0_orca']-2))/6\n",
    "    assert row['o_8_ni'] == (row['f_13_14'] + row['f_8_12'])/2\n",
    "    assert row['o_9_ni'] == row['f_12_14'] + row['f_9_12']/2\n",
    "    assert row['o_10_ni'] == row['o_10_orca'] + 2 * row['o_12_orca'] + row['f_13_14']\n",
    "    assert row['o_11_ni'] == (row['f_13_14'] + row['f_11_13'])/2\n",
    "    assert row['o_12_ni'] == row['f_12_14']\n",
    "    assert row['o_13_ni'] == row['f_13_14'] * 0.5\n",
    "    assert row['o_14_ni'] == row['o_14_orca']\n",
    "\n",
    "  print(DATASET.upper() + \"\\t\", \"Assertion Fin\")"
   ]
  }
 ],
 "metadata": {
  "colab": {
   "provenance": []
  },
  "kernelspec": {
   "display_name": "Python 3 (ipykernel)",
   "language": "python",
   "name": "python3"
  },
  "language_info": {
   "codemirror_mode": {
    "name": "ipython",
    "version": 3
   },
   "file_extension": ".py",
   "mimetype": "text/x-python",
   "name": "python",
   "nbconvert_exporter": "python",
   "pygments_lexer": "ipython3",
   "version": "3.12.3"
  }
 },
 "nbformat": 4,
 "nbformat_minor": 4
}
